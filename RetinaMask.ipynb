{
 "cells": [
  {
   "cell_type": "code",
   "execution_count": 1,
   "metadata": {
    "colab": {
     "base_uri": "https://localhost:8080/"
    },
    "id": "gjUZ18c7aPI0",
    "outputId": "cdc1e7b9-7137-415d-f0ef-5b32ccfabb3a"
   },
   "outputs": [
    {
     "name": "stdout",
     "output_type": "stream",
     "text": [
      "Thu May 27 01:31:46 2021       \r\n",
      "+-----------------------------------------------------------------------------+\r\n",
      "| NVIDIA-SMI 460.32.03    Driver Version: 460.32.03    CUDA Version: 11.2     |\r\n",
      "|-------------------------------+----------------------+----------------------+\r\n",
      "| GPU  Name        Persistence-M| Bus-Id        Disp.A | Volatile Uncorr. ECC |\r\n",
      "| Fan  Temp  Perf  Pwr:Usage/Cap|         Memory-Usage | GPU-Util  Compute M. |\r\n",
      "|                               |                      |               MIG M. |\r\n",
      "|===============================+======================+======================|\r\n",
      "|   0  GeForce GTX 1080    On   | 00000000:01:00.0  On |                  N/A |\r\n",
      "| N/A   67C    P0    56W /  N/A |    472MiB /  8111MiB |     10%      Default |\r\n",
      "|                               |                      |                  N/A |\r\n",
      "+-------------------------------+----------------------+----------------------+\r\n",
      "                                                                               \r\n",
      "+-----------------------------------------------------------------------------+\r\n",
      "| Processes:                                                                  |\r\n",
      "|  GPU   GI   CI        PID   Type   Process name                  GPU Memory |\r\n",
      "|        ID   ID                                                   Usage      |\r\n",
      "|=============================================================================|\r\n",
      "|    0   N/A  N/A      3232      G   /usr/lib/xorg/Xorg                 18MiB |\r\n",
      "|    0   N/A  N/A      4114      G   /usr/bin/gnome-shell               69MiB |\r\n",
      "|    0   N/A  N/A      5300      G   /usr/lib/xorg/Xorg                139MiB |\r\n",
      "|    0   N/A  N/A      7148      G   /usr/bin/gnome-shell               34MiB |\r\n",
      "|    0   N/A  N/A      7350      G   ...AAAAAAAAA= --shared-files      204MiB |\r\n",
      "+-----------------------------------------------------------------------------+\r\n"
     ]
    }
   ],
   "source": [
    "!nvidia-smi"
   ]
  },
  {
   "cell_type": "code",
   "execution_count": 2,
   "metadata": {
    "colab": {
     "base_uri": "https://localhost:8080/"
    },
    "id": "l4dOT5rAuJnu",
    "outputId": "6d6ca896-40de-4003-f51a-57389687bf0b"
   },
   "outputs": [],
   "source": [
    "import os\n",
    "if not os.path.isdir('keras-retinanet'):\n",
    "    !git clone https://github.com/fizyr/keras-retinanet.git"
   ]
  },
  {
   "cell_type": "code",
   "execution_count": 3,
   "metadata": {
    "colab": {
     "base_uri": "https://localhost:8080/"
    },
    "id": "DVKXABBa0mOI",
    "outputId": "2df9fc13-18d2-46ab-97c3-5eddb28b349f"
   },
   "outputs": [],
   "source": [
    "#!pip install --upgrade keras"
   ]
  },
  {
   "cell_type": "code",
   "execution_count": null,
   "metadata": {
    "colab": {
     "base_uri": "https://localhost:8080/"
    },
    "id": "rY8Deq3muMLt",
    "outputId": "ce903e79-5b32-4e3a-a4ca-0f4be701c237"
   },
   "outputs": [
    {
     "name": "stdout",
     "output_type": "stream",
     "text": [
      "/home/skycam/sample_projs/fasterrcnn/RetinaNet_mask/keras-retinanet\n",
      "alldata.csv\t CONTRIBUTORS.md  maskdb\t    setup.py\n",
      "annotations.csv  examples\t  README.md\t    snapshots\n",
      "build\t\t keras_retinanet  requirements.txt  tests\n",
      "classes.csv\t LICENSE\t  setup.cfg\t    xml2csv.py\n",
      "Processing /home/skycam/sample_projs/fasterrcnn/RetinaNet_mask/keras-retinanet\n",
      "\u001b[33m  DEPRECATION: A future pip version will change local packages to be built in-place without first copying to a temporary directory. We recommend you use --use-feature=in-tree-build to test your packages with this new behavior before it becomes the default.\n",
      "   pip 21.3 will remove support for this functionality. You can find discussion regarding this at https://github.com/pypa/pip/issues/7555.\u001b[0m\n",
      "Requirement already satisfied: keras-resnet==0.2.0 in /home/skycam/venv3.6/lib/python3.6/site-packages (from keras-retinanet==1.0.0) (0.2.0)\n",
      "Requirement already satisfied: six in /home/skycam/venv3.6/lib/python3.6/site-packages (from keras-retinanet==1.0.0) (1.15.0)\n",
      "Requirement already satisfied: numpy in /home/skycam/venv3.6/lib/python3.6/site-packages (from keras-retinanet==1.0.0) (1.19.5)\n",
      "Requirement already satisfied: cython in /home/skycam/venv3.6/lib/python3.6/site-packages (from keras-retinanet==1.0.0) (0.29.21)\n",
      "Requirement already satisfied: Pillow in /home/skycam/venv3.6/lib/python3.6/site-packages (from keras-retinanet==1.0.0) (8.1.2)\n",
      "Requirement already satisfied: opencv-python in /home/skycam/venv3.6/lib/python3.6/site-packages (from keras-retinanet==1.0.0) (4.5.1.48)\n",
      "Requirement already satisfied: progressbar2 in /home/skycam/venv3.6/lib/python3.6/site-packages (from keras-retinanet==1.0.0) (3.53.1)\n",
      "Requirement already satisfied: keras>=2.2.4 in /home/skycam/venv3.6/lib/python3.6/site-packages (from keras-resnet==0.2.0->keras-retinanet==1.0.0) (2.4.3)\n",
      "Requirement already satisfied: pyyaml in /home/skycam/venv3.6/lib/python3.6/site-packages (from keras>=2.2.4->keras-resnet==0.2.0->keras-retinanet==1.0.0) (5.4.1)\n",
      "Requirement already satisfied: scipy>=0.14 in /home/skycam/venv3.6/lib/python3.6/site-packages (from keras>=2.2.4->keras-resnet==0.2.0->keras-retinanet==1.0.0) (1.5.4)\n",
      "Requirement already satisfied: h5py in /home/skycam/venv3.6/lib/python3.6/site-packages (from keras>=2.2.4->keras-resnet==0.2.0->keras-retinanet==1.0.0) (2.10.0)\n",
      "Requirement already satisfied: python-utils>=2.3.0 in /home/skycam/venv3.6/lib/python3.6/site-packages (from progressbar2->keras-retinanet==1.0.0) (2.5.6)\n",
      "Building wheels for collected packages: keras-retinanet\n",
      "  Building wheel for keras-retinanet (setup.py) ... \u001b[?25ldone\n",
      "\u001b[?25h  Created wheel for keras-retinanet: filename=keras_retinanet-1.0.0-cp36-cp36m-linux_x86_64.whl size=167023 sha256=b3fbe2b6575cc94dc4f0c4fcdcf58fb803cad2511861ebb8ca6819d599fa84da\n",
      "  Stored in directory: /home/skycam/.cache/pip/wheels/36/b5/1c/a4ad72c8564ca6f75f898670e38e115d099e0630d5de208c78\n",
      "Successfully built keras-retinanet\n",
      "Installing collected packages: keras-retinanet\n",
      "  Attempting uninstall: keras-retinanet\n",
      "    Found existing installation: keras-retinanet 1.0.0\n",
      "    Uninstalling keras-retinanet-1.0.0:\n",
      "      Successfully uninstalled keras-retinanet-1.0.0\n",
      "Successfully installed keras-retinanet-1.0.0\n",
      "running build_ext\n",
      "skipping 'keras_retinanet/utils/compute_overlap.c' Cython extension (up-to-date)\n",
      "copying build/lib.linux-x86_64-3.6/keras_retinanet/utils/compute_overlap.cpython-36m-x86_64-linux-gnu.so -> keras_retinanet/utils\n",
      "Requirement already satisfied: gdown in /home/skycam/venv3.6/lib/python3.6/site-packages (3.13.0)\n",
      "Requirement already satisfied: tqdm in /home/skycam/venv3.6/lib/python3.6/site-packages (from gdown) (4.59.0)\n",
      "Requirement already satisfied: six in /home/skycam/venv3.6/lib/python3.6/site-packages (from gdown) (1.15.0)\n",
      "Requirement already satisfied: filelock in /home/skycam/venv3.6/lib/python3.6/site-packages (from gdown) (3.0.12)\n",
      "Requirement already satisfied: requests[socks]>=2.12.0 in /home/skycam/venv3.6/lib/python3.6/site-packages (from gdown) (2.25.1)\n",
      "Requirement already satisfied: chardet<5,>=3.0.2 in /home/skycam/venv3.6/lib/python3.6/site-packages (from requests[socks]>=2.12.0->gdown) (4.0.0)\n",
      "Requirement already satisfied: urllib3<1.27,>=1.21.1 in /home/skycam/venv3.6/lib/python3.6/site-packages (from requests[socks]>=2.12.0->gdown) (1.26.2)\n",
      "Requirement already satisfied: certifi>=2017.4.17 in /home/skycam/venv3.6/lib/python3.6/site-packages (from requests[socks]>=2.12.0->gdown) (2020.12.5)\n",
      "Requirement already satisfied: idna<3,>=2.5 in /home/skycam/venv3.6/lib/python3.6/site-packages (from requests[socks]>=2.12.0->gdown) (2.10)\n",
      "Requirement already satisfied: PySocks!=1.5.7,>=1.5.6 in /home/skycam/venv3.6/lib/python3.6/site-packages (from requests[socks]>=2.12.0->gdown) (1.7.1)\n"
     ]
    }
   ],
   "source": [
    "%cd keras-retinanet/\n",
    "!ls\n",
    "if 1: #make this 1 and run only on very first time\n",
    "    !pip install .\n",
    "    !python setup.py build_ext --inplace\n",
    "    !pip install gdown\n",
    "    !pip install tensorflow"
   ]
  },
  {
   "cell_type": "code",
   "execution_count": null,
   "metadata": {
    "id": "VBYDQI_we0vA"
   },
   "outputs": [],
   "source": [
    "import numpy as np\n",
    "import tensorflow as tf\n",
    "import pandas as pd\n",
    "import seaborn as sns\n",
    "from pylab import rcParams\n",
    "import matplotlib.pyplot as plt\n",
    "from matplotlib import rc\n",
    "from pandas.plotting import register_matplotlib_converters\n",
    "from sklearn.model_selection import train_test_split\n",
    "import urllib\n",
    "import os\n",
    "import csv\n",
    "import cv2\n",
    "import time\n",
    "from PIL import Image\n",
    "\n",
    "from keras_retinanet import models\n",
    "from keras_retinanet.utils.image import read_image_bgr, preprocess_image, resize_image\n",
    "from keras_retinanet.utils.visualization import draw_box, draw_caption\n",
    "from keras_retinanet.utils.colors import label_color\n",
    "\n",
    "%matplotlib inline\n",
    "%config InlineBackend.figure_format='retina'\n",
    "\n",
    "register_matplotlib_converters()\n",
    "sns.set(style='whitegrid', palette='muted', font_scale=1.5)\n",
    "\n",
    "rcParams['figure.figsize'] = 22, 10\n",
    "\n",
    "RANDOM_SEED = 42\n",
    "\n",
    "np.random.seed(RANDOM_SEED)\n",
    "tf.random.set_seed(RANDOM_SEED)"
   ]
  },
  {
   "cell_type": "code",
   "execution_count": null,
   "metadata": {
    "id": "uwzQ7cg6JgF3"
   },
   "outputs": [],
   "source": [
    "os.makedirs(\"snapshots\", exist_ok=True)"
   ]
  },
  {
   "cell_type": "code",
   "execution_count": null,
   "metadata": {},
   "outputs": [],
   "source": [
    "#https://curiousily.com/posts/object-detection-on-custom-dataset-with-tensorflow-2-and-keras-using-python/\n",
    "#https://colab.research.google.com/drive/1ldnii3sGJaUHPV6TWImykbeE_O-8VIIN#scrollTo=5DgiQ4FR0go6"
   ]
  },
  {
   "cell_type": "code",
   "execution_count": null,
   "metadata": {
    "id": "ka4fF6SrSEyB"
   },
   "outputs": [],
   "source": [
    "os.makedirs(\"maskdb\", exist_ok=True)"
   ]
  },
  {
   "cell_type": "code",
   "execution_count": null,
   "metadata": {},
   "outputs": [],
   "source": [
    "!python3 xml2csv.py"
   ]
  },
  {
   "cell_type": "code",
   "execution_count": null,
   "metadata": {},
   "outputs": [],
   "source": [
    "df = pd.read_csv('alldata.csv')\n",
    "df.head()"
   ]
  },
  {
   "cell_type": "code",
   "execution_count": null,
   "metadata": {
    "id": "cT6YyNrXEYZo"
   },
   "outputs": [],
   "source": [
    "def show_image_objects(image_row):\n",
    "\n",
    "  img_path = image_row.image_name\n",
    "  box = [\n",
    "    image_row.x_min, image_row.y_min, image_row.x_max, image_row.y_max\n",
    "  ]\n",
    "  \n",
    "  image = read_image_bgr(img_path)\n",
    "\n",
    "  draw = image.copy()\n",
    "  draw = cv2.cvtColor(draw, cv2.COLOR_BGR2RGB)\n",
    "\n",
    "  draw_box(draw, box, color=(0, 255, 0))\n",
    "\n",
    "  plt.axis('off')\n",
    "  plt.imshow(draw)\n",
    "  plt.show()"
   ]
  },
  {
   "cell_type": "code",
   "execution_count": null,
   "metadata": {
    "colab": {
     "base_uri": "https://localhost:8080/",
     "height": 575
    },
    "id": "pOuAUjBgFAg9",
    "outputId": "bb4a37b8-fbd2-47e4-b5c6-173696f59beb"
   },
   "outputs": [],
   "source": [
    "show_image_objects(df.iloc[0])"
   ]
  },
  {
   "cell_type": "code",
   "execution_count": null,
   "metadata": {
    "colab": {
     "base_uri": "https://localhost:8080/",
     "height": 575
    },
    "id": "t9NCAxgVGkvY",
    "outputId": "afe03796-b484-4e39-8919-c568b10b1da5",
    "scrolled": true
   },
   "outputs": [],
   "source": [
    "show_image_objects(df.iloc[5])"
   ]
  },
  {
   "cell_type": "markdown",
   "metadata": {
    "id": "dA6Erly6GpVh"
   },
   "source": [
    "# Preprocessing"
   ]
  },
  {
   "cell_type": "code",
   "execution_count": null,
   "metadata": {
    "id": "JRa26crVdmIM"
   },
   "outputs": [],
   "source": [
    "train_df, test_df = train_test_split(\n",
    "  df, \n",
    "  test_size=0.2, \n",
    "  random_state=RANDOM_SEED\n",
    ")"
   ]
  },
  {
   "cell_type": "code",
   "execution_count": null,
   "metadata": {
    "id": "cFCAVNSbaogH"
   },
   "outputs": [],
   "source": [
    "ANNOTATIONS_FILE = 'annotations.csv'\n",
    "CLASSES_FILE = 'classes.csv'"
   ]
  },
  {
   "cell_type": "code",
   "execution_count": null,
   "metadata": {},
   "outputs": [],
   "source": [
    "train_df"
   ]
  },
  {
   "cell_type": "code",
   "execution_count": null,
   "metadata": {
    "id": "BdVj_uKyTQ2e"
   },
   "outputs": [],
   "source": [
    "train_df.to_csv(ANNOTATIONS_FILE, index=False, header=None)"
   ]
  },
  {
   "cell_type": "code",
   "execution_count": null,
   "metadata": {
    "id": "09UyvA2kaCsE"
   },
   "outputs": [],
   "source": [
    "classes = set(['mask','nomask'])\n",
    "\n",
    "with open(CLASSES_FILE, 'w') as f:\n",
    "  for i, line in enumerate(sorted(classes)):\n",
    "    f.write('{},{}\\n'.format(line,i))"
   ]
  },
  {
   "cell_type": "code",
   "execution_count": null,
   "metadata": {
    "colab": {
     "base_uri": "https://localhost:8080/"
    },
    "id": "uMObRBMHaIPs",
    "outputId": "4b71370e-0b38-4f0f-f6cc-1913d8e23b11"
   },
   "outputs": [],
   "source": [
    "!head classes.csv"
   ]
  },
  {
   "cell_type": "code",
   "execution_count": null,
   "metadata": {
    "colab": {
     "base_uri": "https://localhost:8080/"
    },
    "id": "Ksf2soUUPEHM",
    "outputId": "009bf476-c6fa-4b3a-a46b-83d9793fab7f"
   },
   "outputs": [],
   "source": [
    "!head annotations.csv"
   ]
  },
  {
   "cell_type": "markdown",
   "metadata": {
    "id": "20be3_YS71pK"
   },
   "source": [
    "# Training"
   ]
  },
  {
   "cell_type": "code",
   "execution_count": null,
   "metadata": {},
   "outputs": [],
   "source": [
    "if 1:\n",
    "    PRETRAINED_MODEL = './snapshots/_pretrained_model.h5'\n",
    "    if not os.path.isfile(PRETRAINED_MODEL):\n",
    "        URL_MODEL = 'https://github.com/fizyr/keras-retinanet/releases/download/0.5.1/resnet50_coco_best_v2.1.0.h5'\n",
    "        urllib.request.urlretrieve(URL_MODEL, PRETRAINED_MODEL)\n",
    "\n",
    "        print('Downloaded pretrained model to ' + PRETRAINED_MODEL)\n",
    "    else:\n",
    "        PRETRAINED_MODEL = './snapshots/resnet50_csv_.h5'"
   ]
  },
  {
   "cell_type": "code",
   "execution_count": null,
   "metadata": {},
   "outputs": [],
   "source": []
  },
  {
   "cell_type": "code",
   "execution_count": null,
   "metadata": {},
   "outputs": [],
   "source": [
    "!pip3 install progressbar2"
   ]
  },
  {
   "cell_type": "code",
   "execution_count": null,
   "metadata": {
    "scrolled": true
   },
   "outputs": [],
   "source": [
    "if 1:#make this one and run to train again\n",
    "    !keras_retinanet/bin/train.py --freeze-backbone --random-transform --weights {PRETRAINED_MODEL} --batch-size 4 --steps 10 --epochs 1 csv annotations.csv classes.csv"
   ]
  },
  {
   "cell_type": "markdown",
   "metadata": {
    "id": "To58vY_v732i"
   },
   "source": [
    "# Loading the trained model"
   ]
  },
  {
   "cell_type": "code",
   "execution_count": null,
   "metadata": {
    "id": "blCE-SK10hiF"
   },
   "outputs": [],
   "source": [
    "!ls snapshots"
   ]
  },
  {
   "cell_type": "code",
   "execution_count": null,
   "metadata": {
    "id": "hefsKSMOptkw"
   },
   "outputs": [],
   "source": [
    "model_path = os.path.join('snapshots', sorted(os.listdir('snapshots'), reverse=True)[0])\n",
    "print(model_path)\n",
    "\n",
    "model = models.load_model(model_path, backbone_name='resnet50')\n",
    "model = models.convert_model(model)\n",
    "\n",
    "labels_to_names = pd.read_csv(CLASSES_FILE, header=None).T.loc[0].to_dict()"
   ]
  },
  {
   "cell_type": "markdown",
   "metadata": {
    "id": "ABfa4b44784Q"
   },
   "source": [
    "# Predictions"
   ]
  },
  {
   "cell_type": "code",
   "execution_count": null,
   "metadata": {
    "id": "qFFPSLzyaAtb"
   },
   "outputs": [],
   "source": [
    "def predict(image):\n",
    "  image = preprocess_image(image.copy())\n",
    "  image, scale = resize_image(image)\n",
    "\n",
    "  boxes, scores, labels = model.predict_on_batch(\n",
    "    np.expand_dims(image, axis=0)\n",
    "  )\n",
    "\n",
    "  boxes /= scale\n",
    "\n",
    "  return boxes, scores, labels"
   ]
  },
  {
   "cell_type": "code",
   "execution_count": null,
   "metadata": {
    "id": "VOQDuwCepwfg"
   },
   "outputs": [],
   "source": [
    "THRES_SCORE = 0.6\n",
    "\n",
    "def draw_detections(image, boxes, scores, labels):\n",
    "  for box, score, label in zip(boxes[0], scores[0], labels[0]):\n",
    "    if score > THRES_SCORE:\n",
    "        #break\n",
    "\n",
    "        color = label_color(label)\n",
    "        #print('label',label)\n",
    "        b = box.astype(int)\n",
    "        draw_box(image, b, color=color)\n",
    "\n",
    "        caption = \"{} {:.3f}\".format(labels_to_names[label], score)\n",
    "        draw_caption(image, b, caption)"
   ]
  },
  {
   "cell_type": "code",
   "execution_count": null,
   "metadata": {
    "id": "QymE_iLFaDlL"
   },
   "outputs": [],
   "source": [
    "def show_detected_objects(image_row):\n",
    "  img_path = image_row.image_name\n",
    "  \n",
    "  image = read_image_bgr(img_path)\n",
    "\n",
    "  boxes, scores, labels = predict(image)\n",
    "  #import pdb;pdb.set_trace()\n",
    "\n",
    "  draw = image.copy()\n",
    "  draw = cv2.cvtColor(draw, cv2.COLOR_BGR2RGB)\n",
    "  \n",
    "  true_box = [\n",
    "    image_row.x_min, image_row.y_min, image_row.x_max, image_row.y_max\n",
    "  ]\n",
    "  draw_box(draw, true_box, color=(0, 255, 0))\n",
    "\n",
    "  draw_detections(draw, boxes, scores, labels)\n",
    "\n",
    "  plt.axis('off')\n",
    "  plt.imshow(draw)\n",
    "  plt.show()"
   ]
  },
  {
   "cell_type": "code",
   "execution_count": null,
   "metadata": {
    "id": "XJs4Czdp_y9q",
    "scrolled": true
   },
   "outputs": [],
   "source": [
    "test_df.head(n=10)"
   ]
  },
  {
   "cell_type": "code",
   "execution_count": null,
   "metadata": {
    "id": "CVBQWHKPgcjy",
    "scrolled": true
   },
   "outputs": [],
   "source": [
    "show_detected_objects(test_df.iloc[0])"
   ]
  },
  {
   "cell_type": "code",
   "execution_count": null,
   "metadata": {
    "id": "2b-Wm_dcAHwN",
    "scrolled": false
   },
   "outputs": [],
   "source": [
    "show_detected_objects(test_df.iloc[1])"
   ]
  },
  {
   "cell_type": "code",
   "execution_count": null,
   "metadata": {
    "colab": {
     "base_uri": "https://localhost:8080/",
     "height": 575
    },
    "id": "2fZKnhAZKHVv",
    "outputId": "e7b8e09e-4cb7-4642-824e-5efed9810ec0"
   },
   "outputs": [],
   "source": [
    "show_detected_objects(test_df.iloc[2])"
   ]
  },
  {
   "cell_type": "code",
   "execution_count": null,
   "metadata": {},
   "outputs": [],
   "source": []
  },
  {
   "cell_type": "code",
   "execution_count": null,
   "metadata": {},
   "outputs": [],
   "source": []
  },
  {
   "cell_type": "code",
   "execution_count": null,
   "metadata": {},
   "outputs": [],
   "source": []
  }
 ],
 "metadata": {
  "accelerator": "GPU",
  "colab": {
   "collapsed_sections": [],
   "name": "14.object-detection.ipynb",
   "provenance": []
  },
  "kernelspec": {
   "display_name": "venv3.6",
   "language": "python",
   "name": "venv3.6"
  },
  "language_info": {
   "codemirror_mode": {
    "name": "ipython",
    "version": 3
   },
   "file_extension": ".py",
   "mimetype": "text/x-python",
   "name": "python",
   "nbconvert_exporter": "python",
   "pygments_lexer": "ipython3",
   "version": "3.6.9"
  }
 },
 "nbformat": 4,
 "nbformat_minor": 1
}
